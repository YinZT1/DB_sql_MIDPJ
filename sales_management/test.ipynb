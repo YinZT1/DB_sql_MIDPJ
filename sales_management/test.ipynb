{
 "cells": [
  {
   "cell_type": "code",
   "execution_count": 6,
   "id": "b4754094de1b4878",
   "metadata": {
    "collapsed": false
   },
   "outputs": [],
   "source": [
    "%load_ext autoreload\n",
    "%autoreload 2"
   ]
  },
  {
   "cell_type": "code",
   "execution_count": 16,
   "id": "1c96f988",
   "metadata": {
    "ExecuteTime": {
     "end_time": "2025-04-08T09:16:23.477542800Z",
     "start_time": "2025-04-08T09:16:22.328430700Z"
    }
   },
   "outputs": [
    {
     "name": "stdout",
     "output_type": "stream",
     "text": [
      "数据库初始化完成\n",
      "系统初始化完成，可以开始开发业务逻辑\n"
     ]
    },
    {
     "name": "stderr",
     "output_type": "stream",
     "text": [
      "2025-04-08 17:45:12,295 - utils.logger - INFO - 应用程序启动\n",
      "2025-04-08 17:45:12,356 - utils.logger - INFO - 数据库初始化完成\n"
     ]
    }
   ],
   "source": [
    "!python main.py"
   ]
  },
  {
   "cell_type": "code",
   "execution_count": null,
   "id": "f0542e20",
   "metadata": {
    "ExecuteTime": {
     "end_time": "2025-04-08T09:17:39.758090900Z",
     "start_time": "2025-04-08T09:17:39.726874300Z"
    }
   },
   "outputs": [
    {
     "name": "stdout",
     "output_type": "stream",
     "text": [
      "Obtaining file:///C:/Users/yinzhitao/Desktop/2Term3Year/db-sql/mymid/sales_management\n"
     ]
    },
    {
     "name": "stderr",
     "output_type": "stream",
     "text": [
      "ERROR: file:///C:/Users/yinzhitao/Desktop/2Term3Year/db-sql/mymid/sales_management does not appear to be a Python project: neither 'setup.py' nor 'pyproject.toml' found.\n"
     ]
    }
   ],
   "source": []
  }
 ],
 "metadata": {
  "kernelspec": {
   "display_name": "Python 3",
   "language": "python",
   "name": "python3"
  },
  "language_info": {
   "codemirror_mode": {
    "name": "ipython",
    "version": 3
   },
   "file_extension": ".py",
   "mimetype": "text/x-python",
   "name": "python",
   "nbconvert_exporter": "python",
   "pygments_lexer": "ipython3",
   "version": "3.11.9"
  }
 },
 "nbformat": 4,
 "nbformat_minor": 5
}
